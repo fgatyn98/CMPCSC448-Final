{
 "cells": [
  {
   "cell_type": "code",
   "execution_count": 142,
   "id": "66e5cad3-8e1d-4876-8ca8-9de6c35ba0c4",
   "metadata": {},
   "outputs": [
    {
     "data": {
      "text/html": [
       "<div>\n",
       "<style scoped>\n",
       "    .dataframe tbody tr th:only-of-type {\n",
       "        vertical-align: middle;\n",
       "    }\n",
       "\n",
       "    .dataframe tbody tr th {\n",
       "        vertical-align: top;\n",
       "    }\n",
       "\n",
       "    .dataframe thead th {\n",
       "        text-align: right;\n",
       "    }\n",
       "</style>\n",
       "<table border=\"1\" class=\"dataframe\">\n",
       "  <thead>\n",
       "    <tr style=\"text-align: right;\">\n",
       "      <th></th>\n",
       "      <th>review</th>\n",
       "      <th>sentiment</th>\n",
       "    </tr>\n",
       "  </thead>\n",
       "  <tbody>\n",
       "    <tr>\n",
       "      <th>0</th>\n",
       "      <td>One of the other reviewers has mentioned that ...</td>\n",
       "      <td>positive</td>\n",
       "    </tr>\n",
       "    <tr>\n",
       "      <th>1</th>\n",
       "      <td>A wonderful little production. &lt;br /&gt;&lt;br /&gt;The...</td>\n",
       "      <td>positive</td>\n",
       "    </tr>\n",
       "    <tr>\n",
       "      <th>2</th>\n",
       "      <td>I thought this was a wonderful way to spend ti...</td>\n",
       "      <td>positive</td>\n",
       "    </tr>\n",
       "    <tr>\n",
       "      <th>3</th>\n",
       "      <td>Basically there's a family where a little boy ...</td>\n",
       "      <td>negative</td>\n",
       "    </tr>\n",
       "    <tr>\n",
       "      <th>4</th>\n",
       "      <td>Petter Mattei's \"Love in the Time of Money\" is...</td>\n",
       "      <td>positive</td>\n",
       "    </tr>\n",
       "    <tr>\n",
       "      <th>...</th>\n",
       "      <td>...</td>\n",
       "      <td>...</td>\n",
       "    </tr>\n",
       "    <tr>\n",
       "      <th>49995</th>\n",
       "      <td>I thought this movie did a down right good job...</td>\n",
       "      <td>positive</td>\n",
       "    </tr>\n",
       "    <tr>\n",
       "      <th>49996</th>\n",
       "      <td>Bad plot, bad dialogue, bad acting, idiotic di...</td>\n",
       "      <td>negative</td>\n",
       "    </tr>\n",
       "    <tr>\n",
       "      <th>49997</th>\n",
       "      <td>I am a Catholic taught in parochial elementary...</td>\n",
       "      <td>negative</td>\n",
       "    </tr>\n",
       "    <tr>\n",
       "      <th>49998</th>\n",
       "      <td>I'm going to have to disagree with the previou...</td>\n",
       "      <td>negative</td>\n",
       "    </tr>\n",
       "    <tr>\n",
       "      <th>49999</th>\n",
       "      <td>No one expects the Star Trek movies to be high...</td>\n",
       "      <td>negative</td>\n",
       "    </tr>\n",
       "  </tbody>\n",
       "</table>\n",
       "<p>50000 rows × 2 columns</p>\n",
       "</div>"
      ],
      "text/plain": [
       "                                                  review sentiment\n",
       "0      One of the other reviewers has mentioned that ...  positive\n",
       "1      A wonderful little production. <br /><br />The...  positive\n",
       "2      I thought this was a wonderful way to spend ti...  positive\n",
       "3      Basically there's a family where a little boy ...  negative\n",
       "4      Petter Mattei's \"Love in the Time of Money\" is...  positive\n",
       "...                                                  ...       ...\n",
       "49995  I thought this movie did a down right good job...  positive\n",
       "49996  Bad plot, bad dialogue, bad acting, idiotic di...  negative\n",
       "49997  I am a Catholic taught in parochial elementary...  negative\n",
       "49998  I'm going to have to disagree with the previou...  negative\n",
       "49999  No one expects the Star Trek movies to be high...  negative\n",
       "\n",
       "[50000 rows x 2 columns]"
      ]
     },
     "execution_count": 142,
     "metadata": {},
     "output_type": "execute_result"
    }
   ],
   "source": [
    "import pyprind\n",
    "import pandas as pd\n",
    "from string import punctuation\n",
    "import re\n",
    "import numpy as np\n",
    "import matplotlib.pyplot as plt\n",
    "from tensorflow.keras.datasets import imdb\n",
    "from sklearn.model_selection import train_test_split\n",
    "import nltk\n",
    "from tensorflow.keras.preprocessing.text import Tokenizer\n",
    "from tensorflow.keras.preprocessing.sequence import pad_sequences\n",
    "from tensorflow.keras.models import Sequential\n",
    "\n",
    "df = pd.read_csv('IMDB Dataset.csv.zip', encoding='utf-8')\n",
    "df"
   ]
  },
  {
   "cell_type": "code",
   "execution_count": 143,
   "id": "8ca0814e-3ddc-49d1-86f1-9bca8e1a19e0",
   "metadata": {},
   "outputs": [
    {
     "data": {
      "text/html": [
       "<div>\n",
       "<style scoped>\n",
       "    .dataframe tbody tr th:only-of-type {\n",
       "        vertical-align: middle;\n",
       "    }\n",
       "\n",
       "    .dataframe tbody tr th {\n",
       "        vertical-align: top;\n",
       "    }\n",
       "\n",
       "    .dataframe thead th {\n",
       "        text-align: right;\n",
       "    }\n",
       "</style>\n",
       "<table border=\"1\" class=\"dataframe\">\n",
       "  <thead>\n",
       "    <tr style=\"text-align: right;\">\n",
       "      <th></th>\n",
       "      <th>review</th>\n",
       "      <th>sentiment</th>\n",
       "    </tr>\n",
       "  </thead>\n",
       "  <tbody>\n",
       "    <tr>\n",
       "      <th>0</th>\n",
       "      <td>One of the other reviewers has mentioned that ...</td>\n",
       "      <td>1</td>\n",
       "    </tr>\n",
       "    <tr>\n",
       "      <th>1</th>\n",
       "      <td>A wonderful little production. &lt;br /&gt;&lt;br /&gt;The...</td>\n",
       "      <td>1</td>\n",
       "    </tr>\n",
       "    <tr>\n",
       "      <th>2</th>\n",
       "      <td>I thought this was a wonderful way to spend ti...</td>\n",
       "      <td>1</td>\n",
       "    </tr>\n",
       "    <tr>\n",
       "      <th>3</th>\n",
       "      <td>Basically there's a family where a little boy ...</td>\n",
       "      <td>0</td>\n",
       "    </tr>\n",
       "    <tr>\n",
       "      <th>4</th>\n",
       "      <td>Petter Mattei's \"Love in the Time of Money\" is...</td>\n",
       "      <td>1</td>\n",
       "    </tr>\n",
       "  </tbody>\n",
       "</table>\n",
       "</div>"
      ],
      "text/plain": [
       "                                              review  sentiment\n",
       "0  One of the other reviewers has mentioned that ...          1\n",
       "1  A wonderful little production. <br /><br />The...          1\n",
       "2  I thought this was a wonderful way to spend ti...          1\n",
       "3  Basically there's a family where a little boy ...          0\n",
       "4  Petter Mattei's \"Love in the Time of Money\" is...          1"
      ]
     },
     "execution_count": 143,
     "metadata": {},
     "output_type": "execute_result"
    }
   ],
   "source": [
    "df['sentiment'] = df['sentiment'].replace(['positive','negative'],[1, 0])\n",
    "df.head()"
   ]
  },
  {
   "cell_type": "code",
   "execution_count": 144,
   "id": "f1bc383a-4d06-4b80-9a30-e78ea871ceef",
   "metadata": {},
   "outputs": [],
   "source": [
    "# Split into train,validation, and test \n",
    "\n",
    "X_data = df['review']\n",
    "y_data = df['sentiment']\n",
    "\n",
    "\n",
    "X_train, X_test, y_train, y_test = train_test_split(X_data, y_data, test_size=0.5, random_state=0)\n"
   ]
  },
  {
   "cell_type": "code",
   "execution_count": 145,
   "id": "b73af9d9-b624-4080-93df-bef32d455365",
   "metadata": {},
   "outputs": [],
   "source": [
    "total_words = 5000\n",
    "max_length = 500"
   ]
  },
  {
   "cell_type": "code",
   "execution_count": 146,
   "id": "230ad8d0-fad7-413c-8bb1-c21896b0c5f1",
   "metadata": {},
   "outputs": [],
   "source": [
    "tokenizer = Tokenizer(num_words=total_words,oov_token='<OOV>')\n",
    "tokenizer.fit_on_texts(X_train)"
   ]
  },
  {
   "cell_type": "code",
   "execution_count": 147,
   "id": "2bd5db51-920d-4017-9d4f-37e6a9784ef2",
   "metadata": {},
   "outputs": [
    {
     "data": {
      "text/plain": [
       "90644"
      ]
     },
     "execution_count": 147,
     "metadata": {},
     "output_type": "execute_result"
    }
   ],
   "source": [
    "len(tokenizer.word_index)"
   ]
  },
  {
   "cell_type": "code",
   "execution_count": 148,
   "id": "d0473071-795c-49d0-b061-206a4710997f",
   "metadata": {},
   "outputs": [],
   "source": [
    "# Tokenizer\n",
    "train_seq = tokenizer.texts_to_sequences(X_train)\n",
    "# Padding\n",
    "train_padd = pad_sequences(train_seq,maxlen=max_length,truncating='post')"
   ]
  },
  {
   "cell_type": "code",
   "execution_count": 150,
   "id": "fd044051-bce6-4044-80e5-925c23bf53b5",
   "metadata": {},
   "outputs": [],
   "source": [
    "# Tokenizer\n",
    "test_seq = tokenizer.texts_to_sequences(X_test)\n",
    "# Padding\n",
    "test_padd = pad_sequences(test_seq,maxlen=max_length,truncating='post')"
   ]
  },
  {
   "cell_type": "code",
   "execution_count": 151,
   "id": "fa248e08-4f7f-49ac-8251-3303e7bf9125",
   "metadata": {},
   "outputs": [
    {
     "data": {
      "text/plain": [
       "500"
      ]
     },
     "execution_count": 151,
     "metadata": {},
     "output_type": "execute_result"
    }
   ],
   "source": [
    "max_seq_len = max([len(x) for x in train_padd])\n",
    "max_seq_len"
   ]
  },
  {
   "cell_type": "code",
   "execution_count": 161,
   "id": "a823f328-f950-4744-bc81-74bb1f2c3eab",
   "metadata": {},
   "outputs": [],
   "source": [
    "y_train = np.array(y_train)\n",
    "y_test = np.array(y_test)"
   ]
  },
  {
   "cell_type": "code",
   "execution_count": 176,
   "id": "e30aabf8-3639-4bf1-8206-2eba4e0f2bf5",
   "metadata": {},
   "outputs": [
    {
     "name": "stdout",
     "output_type": "stream",
     "text": [
      "Model: \"sequential_16\"\n",
      "_________________________________________________________________\n",
      " Layer (type)                Output Shape              Param #   \n",
      "=================================================================\n",
      " embedding_15 (Embedding)    (None, 500, 16)           80000     \n",
      "                                                                 \n",
      " conv1d_13 (Conv1D)          (None, 494, 32)           3616      \n",
      "                                                                 \n",
      " max_pooling1d_13 (MaxPooli  (None, 98, 32)            0         \n",
      " ng1D)                                                           \n",
      "                                                                 \n",
      " dropout_9 (Dropout)         (None, 98, 32)            0         \n",
      "                                                                 \n",
      " flatten_6 (Flatten)         (None, 3136)              0         \n",
      "                                                                 \n",
      " dense_18 (Dense)            (None, 32)                100384    \n",
      "                                                                 \n",
      " dense_19 (Dense)            (None, 1)                 33        \n",
      "                                                                 \n",
      "=================================================================\n",
      "Total params: 184033 (718.88 KB)\n",
      "Trainable params: 184033 (718.88 KB)\n",
      "Non-trainable params: 0 (0.00 Byte)\n",
      "_________________________________________________________________\n"
     ]
    }
   ],
   "source": [
    "from tensorflow.keras.models import Sequential\n",
    "from tensorflow.keras import layers\n",
    "from tensorflow.keras.layers import Embedding\n",
    "from tensorflow.keras.layers import Dense, Dropout, Activation\n",
    "from tensorflow.keras.layers import Conv1D, MaxPooling1D\n",
    "\n",
    "\n",
    "embedding_dim=16\n",
    "\n",
    "# Model\n",
    "model = Sequential()\n",
    "model.add(Embedding(total_words,embedding_dim,input_length =max_length))\n",
    "model.add(layers.Conv1D(32, 7, activation='relu')) #filter : 32 /  length : 7 / width:128 \n",
    "model.add(layers.MaxPool1D(5))  #5 : length of pooling filter / width = 1 /  stride=5 \n",
    "model.add(Dropout(0.5))\n",
    "model.add(layers.Flatten())\n",
    "model.add(layers.Dense(32, activation='relu'))\n",
    "model.add(layers.Dense(1, activation='sigmoid'))\n",
    "model.summary()\n"
   ]
  },
  {
   "cell_type": "code",
   "execution_count": 177,
   "id": "b98630ae-99d6-4d5f-89c5-2e7d27c275b9",
   "metadata": {},
   "outputs": [
    {
     "name": "stdout",
     "output_type": "stream",
     "text": [
      "Epoch 1/10\n",
      "196/196 [==============================] - 5s 23ms/step - loss: 0.6231 - accuracy: 0.6046 - val_loss: 0.3415 - val_accuracy: 0.8546\n",
      "Epoch 2/10\n",
      "196/196 [==============================] - 4s 22ms/step - loss: 0.2905 - accuracy: 0.8796 - val_loss: 0.2837 - val_accuracy: 0.8808\n",
      "Epoch 3/10\n",
      "196/196 [==============================] - 4s 22ms/step - loss: 0.2311 - accuracy: 0.9081 - val_loss: 0.3011 - val_accuracy: 0.8744\n",
      "Epoch 4/10\n",
      "196/196 [==============================] - 5s 26ms/step - loss: 0.1998 - accuracy: 0.9224 - val_loss: 0.2939 - val_accuracy: 0.8803\n",
      "Epoch 5/10\n",
      "196/196 [==============================] - 4s 22ms/step - loss: 0.1767 - accuracy: 0.9313 - val_loss: 0.3056 - val_accuracy: 0.8785\n",
      "Epoch 6/10\n",
      "196/196 [==============================] - 5s 25ms/step - loss: 0.1594 - accuracy: 0.9402 - val_loss: 0.3309 - val_accuracy: 0.8757\n",
      "Epoch 7/10\n",
      "196/196 [==============================] - 5s 24ms/step - loss: 0.1438 - accuracy: 0.9448 - val_loss: 0.3314 - val_accuracy: 0.8745\n",
      "Epoch 8/10\n",
      "196/196 [==============================] - 5s 24ms/step - loss: 0.1245 - accuracy: 0.9540 - val_loss: 0.3649 - val_accuracy: 0.8698\n",
      "Epoch 9/10\n",
      "196/196 [==============================] - 5s 24ms/step - loss: 0.1054 - accuracy: 0.9624 - val_loss: 0.3961 - val_accuracy: 0.8708\n",
      "Epoch 10/10\n",
      "196/196 [==============================] - 4s 23ms/step - loss: 0.0866 - accuracy: 0.9697 - val_loss: 0.4192 - val_accuracy: 0.8692\n"
     ]
    }
   ],
   "source": [
    "from tensorflow.keras.optimizers import RMSprop\n",
    "from tensorflow.keras.optimizers import Adam\n",
    "\n",
    "model.compile(loss='binary_crossentropy', optimizer=Adam(learning_rate=0.001), metrics=['accuracy'])\n",
    " \n",
    "history = model.fit(train_padd, y_train, epochs=10, batch_size=128, validation_data=(test_padd,y_test))"
   ]
  },
  {
   "cell_type": "code",
   "execution_count": 178,
   "id": "239df054-4f8d-437c-86d1-616d8ef647f8",
   "metadata": {},
   "outputs": [
    {
     "data": {
      "image/png": "[encoded data removed]",
      "text/plain": [
       "<Figure size 640x480 with 1 Axes>"
      ]
     },
     "metadata": {},
     "output_type": "display_data"
    },
    {
     "data": {
      "image/png": "[encoded data removed]",
      "text/plain": [
       "<Figure size 640x480 with 1 Axes>"
      ]
     },
     "metadata": {},
     "output_type": "display_data"
    }
   ],
   "source": [
    "def plot_graphs(history, string):\n",
    "        plt.plot(history.history[string])\n",
    "        plt.plot(history.history['val_'+string])\n",
    "        plt.xlabel(\"Epochs\")\n",
    "        plt.ylabel(string)\n",
    "        plt.legend([string, 'val_'+string])\n",
    "        plt.show()\n",
    "\n",
    "plot_graphs(history, 'accuracy')\n",
    "plot_graphs(history, 'loss')"
   ]
  },
  {
   "cell_type": "code",
   "execution_count": 179,
   "id": "58584ab5-05be-4ced-adca-4557a385275a",
   "metadata": {},
   "outputs": [
    {
     "name": "stdout",
     "output_type": "stream",
     "text": [
      "782/782 [==============================] - 1s 2ms/step - loss: 0.4192 - accuracy: 0.8692\n"
     ]
    },
    {
     "data": {
      "text/plain": [
       "[0.4191984236240387, 0.8692399859428406]"
      ]
     },
     "execution_count": 179,
     "metadata": {},
     "output_type": "execute_result"
    }
   ],
   "source": [
    "model.evaluate(test_padd,y_test)"
   ]
  }
 ],
 "metadata": {
  "kernelspec": {
   "display_name": "Python 3 (ipykernel)",
   "language": "python",
   "name": "python3"
  },
  "language_info": {
   "codemirror_mode": {
    "name": "ipython",
    "version": 3
   },
   "file_extension": ".py",
   "mimetype": "text/x-python",
   "name": "python",
   "nbconvert_exporter": "python",
   "pygments_lexer": "ipython3",
   "version": "3.11.1"
  }
 },
 "nbformat": 4,
 "nbformat_minor": 5
}
